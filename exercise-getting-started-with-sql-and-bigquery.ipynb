{
 "cells": [
  {
   "cell_type": "markdown",
   "id": "19faac09",
   "metadata": {
    "papermill": {
     "duration": 0.005542,
     "end_time": "2022-11-18T17:32:11.892261",
     "exception": false,
     "start_time": "2022-11-18T17:32:11.886719",
     "status": "completed"
    },
    "tags": []
   },
   "source": [
    "**This notebook is an exercise in the [SQL](https://www.kaggle.com/learn/intro-to-sql) course.  You can reference the tutorial at [this link](https://www.kaggle.com/dansbecker/getting-started-with-sql-and-bigquery).**\n",
    "\n",
    "---\n"
   ]
  },
  {
   "cell_type": "markdown",
   "id": "c21fa927",
   "metadata": {
    "papermill": {
     "duration": 0.004362,
     "end_time": "2022-11-18T17:32:11.901324",
     "exception": false,
     "start_time": "2022-11-18T17:32:11.896962",
     "status": "completed"
    },
    "tags": []
   },
   "source": [
    "# Introduction\n",
    "\n",
    "The first test of your new data exploration skills uses data describing crime in the city of Chicago.\n",
    "\n",
    "Before you get started, run the following cell. It sets up the automated feedback system to review your answers."
   ]
  },
  {
   "cell_type": "code",
   "execution_count": 1,
   "id": "918258a9",
   "metadata": {
    "execution": {
     "iopub.execute_input": "2022-11-18T17:32:11.913312Z",
     "iopub.status.busy": "2022-11-18T17:32:11.912481Z",
     "iopub.status.idle": "2022-11-18T17:32:12.626609Z",
     "shell.execute_reply": "2022-11-18T17:32:12.625583Z"
    },
    "papermill": {
     "duration": 0.723003,
     "end_time": "2022-11-18T17:32:12.628986",
     "exception": false,
     "start_time": "2022-11-18T17:32:11.905983",
     "status": "completed"
    },
    "tags": []
   },
   "outputs": [
    {
     "name": "stdout",
     "output_type": "stream",
     "text": [
      "Using Kaggle's public dataset BigQuery integration.\n",
      "Setup Complete\n"
     ]
    }
   ],
   "source": [
    "# Set up feedack system\n",
    "from learntools.core import binder\n",
    "binder.bind(globals())\n",
    "from learntools.sql.ex1 import *\n",
    "print(\"Setup Complete\")"
   ]
  },
  {
   "cell_type": "markdown",
   "id": "311ab3fa",
   "metadata": {
    "papermill": {
     "duration": 0.004733,
     "end_time": "2022-11-18T17:32:12.638690",
     "exception": false,
     "start_time": "2022-11-18T17:32:12.633957",
     "status": "completed"
    },
    "tags": []
   },
   "source": [
    "Use the next code cell to fetch the dataset."
   ]
  },
  {
   "cell_type": "code",
   "execution_count": 2,
   "id": "1df921ef",
   "metadata": {
    "execution": {
     "iopub.execute_input": "2022-11-18T17:32:12.650398Z",
     "iopub.status.busy": "2022-11-18T17:32:12.649689Z",
     "iopub.status.idle": "2022-11-18T17:32:12.935745Z",
     "shell.execute_reply": "2022-11-18T17:32:12.934831Z"
    },
    "papermill": {
     "duration": 0.29507,
     "end_time": "2022-11-18T17:32:12.938618",
     "exception": false,
     "start_time": "2022-11-18T17:32:12.643548",
     "status": "completed"
    },
    "tags": []
   },
   "outputs": [
    {
     "name": "stdout",
     "output_type": "stream",
     "text": [
      "Using Kaggle's public dataset BigQuery integration.\n"
     ]
    }
   ],
   "source": [
    "from google.cloud import bigquery\n",
    "\n",
    "# Create a \"Client\" object\n",
    "client = bigquery.Client()\n",
    "\n",
    "# Construct a reference to the \"chicago_crime\" dataset\n",
    "dataset_ref = client.dataset(\"chicago_crime\", project=\"bigquery-public-data\")\n",
    "\n",
    "# API request - fetch the dataset\n",
    "dataset = client.get_dataset(dataset_ref)"
   ]
  },
  {
   "cell_type": "markdown",
   "id": "2d3b6f30",
   "metadata": {
    "papermill": {
     "duration": 0.004519,
     "end_time": "2022-11-18T17:32:12.948366",
     "exception": false,
     "start_time": "2022-11-18T17:32:12.943847",
     "status": "completed"
    },
    "tags": []
   },
   "source": [
    "# Exercises\n",
    "\n",
    "### 1) Count tables in the dataset\n",
    "\n",
    "How many tables are in the Chicago Crime dataset?"
   ]
  },
  {
   "cell_type": "code",
   "execution_count": 3,
   "id": "8e0057d7",
   "metadata": {
    "execution": {
     "iopub.execute_input": "2022-11-18T17:32:12.959552Z",
     "iopub.status.busy": "2022-11-18T17:32:12.959154Z",
     "iopub.status.idle": "2022-11-18T17:32:13.286888Z",
     "shell.execute_reply": "2022-11-18T17:32:13.285322Z"
    },
    "papermill": {
     "duration": 0.336232,
     "end_time": "2022-11-18T17:32:13.289342",
     "exception": false,
     "start_time": "2022-11-18T17:32:12.953110",
     "status": "completed"
    },
    "tags": []
   },
   "outputs": [
    {
     "name": "stdout",
     "output_type": "stream",
     "text": [
      "1\n"
     ]
    }
   ],
   "source": [
    "# Write the code you need here to figure out the answer\n",
    "\n",
    "# List all the tables in \"chicago_crime\" dataset\n",
    "tables = list(client.list_tables(dataset))\n",
    "\n",
    "# Print number of tables in the dataset\n",
    "print(len(tables))"
   ]
  },
  {
   "cell_type": "code",
   "execution_count": 4,
   "id": "20ecf99c",
   "metadata": {
    "execution": {
     "iopub.execute_input": "2022-11-18T17:32:13.301884Z",
     "iopub.status.busy": "2022-11-18T17:32:13.301504Z",
     "iopub.status.idle": "2022-11-18T17:32:13.310967Z",
     "shell.execute_reply": "2022-11-18T17:32:13.310319Z"
    },
    "papermill": {
     "duration": 0.017475,
     "end_time": "2022-11-18T17:32:13.312605",
     "exception": false,
     "start_time": "2022-11-18T17:32:13.295130",
     "status": "completed"
    },
    "tags": []
   },
   "outputs": [
    {
     "data": {
      "application/javascript": [
       "parent.postMessage({\"jupyterEvent\": \"custom.exercise_interaction\", \"data\": {\"outcomeType\": 1, \"valueTowardsCompletion\": 0.3333333333333333, \"interactionType\": 1, \"questionType\": 1, \"questionId\": \"1_CountTables\", \"learnToolsVersion\": \"0.3.4\", \"failureMessage\": \"\", \"exceptionClass\": \"\", \"trace\": \"\"}}, \"*\")"
      ],
      "text/plain": [
       "<IPython.core.display.Javascript object>"
      ]
     },
     "metadata": {},
     "output_type": "display_data"
    },
    {
     "data": {
      "text/markdown": [
       "<span style=\"color:#33cc33\">Correct</span>"
      ],
      "text/plain": [
       "Correct"
      ]
     },
     "metadata": {},
     "output_type": "display_data"
    }
   ],
   "source": [
    "num_tables = 1  # Store the answer as num_tables and then run this cell\n",
    "\n",
    "# Check your answer\n",
    "q_1.check()"
   ]
  },
  {
   "cell_type": "markdown",
   "id": "a96ba47d",
   "metadata": {
    "papermill": {
     "duration": 0.004744,
     "end_time": "2022-11-18T17:32:13.323681",
     "exception": false,
     "start_time": "2022-11-18T17:32:13.318937",
     "status": "completed"
    },
    "tags": []
   },
   "source": [
    "For a hint or the solution, uncomment the appropriate line below."
   ]
  },
  {
   "cell_type": "code",
   "execution_count": 5,
   "id": "8dbd3f20",
   "metadata": {
    "execution": {
     "iopub.execute_input": "2022-11-18T17:32:13.336351Z",
     "iopub.status.busy": "2022-11-18T17:32:13.335369Z",
     "iopub.status.idle": "2022-11-18T17:32:13.344287Z",
     "shell.execute_reply": "2022-11-18T17:32:13.343202Z"
    },
    "papermill": {
     "duration": 0.017859,
     "end_time": "2022-11-18T17:32:13.346440",
     "exception": false,
     "start_time": "2022-11-18T17:32:13.328581",
     "status": "completed"
    },
    "tags": []
   },
   "outputs": [
    {
     "data": {
      "application/javascript": [
       "parent.postMessage({\"jupyterEvent\": \"custom.exercise_interaction\", \"data\": {\"interactionType\": 3, \"questionType\": 1, \"questionId\": \"1_CountTables\", \"learnToolsVersion\": \"0.3.4\", \"valueTowardsCompletion\": 0.0, \"failureMessage\": \"\", \"exceptionClass\": \"\", \"trace\": \"\", \"outcomeType\": 4}}, \"*\")"
      ],
      "text/plain": [
       "<IPython.core.display.Javascript object>"
      ]
     },
     "metadata": {},
     "output_type": "display_data"
    },
    {
     "data": {
      "text/markdown": [
       "<span style=\"color:#33cc99\">Solution:</span> \n",
       "```python\n",
       "\n",
       "# List all the tables in the \"chicago_crime\" dataset\n",
       "tables = list(client.list_tables(dataset))\n",
       "\n",
       "# Print number of tables in the dataset\n",
       "print(len(tables))\n",
       "\n",
       "num_tables = 1\n",
       "\n",
       "```"
      ],
      "text/plain": [
       "Solution: \n",
       "```python\n",
       "\n",
       "# List all the tables in the \"chicago_crime\" dataset\n",
       "tables = list(client.list_tables(dataset))\n",
       "\n",
       "# Print number of tables in the dataset\n",
       "print(len(tables))\n",
       "\n",
       "num_tables = 1\n",
       "\n",
       "```"
      ]
     },
     "metadata": {},
     "output_type": "display_data"
    }
   ],
   "source": [
    "#q_1.hint()\n",
    "q_1.solution()"
   ]
  },
  {
   "cell_type": "markdown",
   "id": "9804acdc",
   "metadata": {
    "papermill": {
     "duration": 0.005073,
     "end_time": "2022-11-18T17:32:13.357054",
     "exception": false,
     "start_time": "2022-11-18T17:32:13.351981",
     "status": "completed"
    },
    "tags": []
   },
   "source": [
    "### 2) Explore the table schema\n",
    "\n",
    "How many columns in the `crime` table have `TIMESTAMP` data?"
   ]
  },
  {
   "cell_type": "code",
   "execution_count": 6,
   "id": "8c25bd60",
   "metadata": {
    "execution": {
     "iopub.execute_input": "2022-11-18T17:32:13.369516Z",
     "iopub.status.busy": "2022-11-18T17:32:13.369090Z",
     "iopub.status.idle": "2022-11-18T17:32:13.569892Z",
     "shell.execute_reply": "2022-11-18T17:32:13.568439Z"
    },
    "papermill": {
     "duration": 0.209756,
     "end_time": "2022-11-18T17:32:13.572123",
     "exception": false,
     "start_time": "2022-11-18T17:32:13.362367",
     "status": "completed"
    },
    "tags": []
   },
   "outputs": [
    {
     "data": {
      "text/plain": [
       "[SchemaField('unique_key', 'INTEGER', 'REQUIRED', None, (), None),\n",
       " SchemaField('case_number', 'STRING', 'NULLABLE', None, (), None),\n",
       " SchemaField('date', 'TIMESTAMP', 'NULLABLE', None, (), None),\n",
       " SchemaField('block', 'STRING', 'NULLABLE', None, (), None),\n",
       " SchemaField('iucr', 'STRING', 'NULLABLE', None, (), None),\n",
       " SchemaField('primary_type', 'STRING', 'NULLABLE', None, (), None),\n",
       " SchemaField('description', 'STRING', 'NULLABLE', None, (), None),\n",
       " SchemaField('location_description', 'STRING', 'NULLABLE', None, (), None),\n",
       " SchemaField('arrest', 'BOOLEAN', 'NULLABLE', None, (), None),\n",
       " SchemaField('domestic', 'BOOLEAN', 'NULLABLE', None, (), None),\n",
       " SchemaField('beat', 'INTEGER', 'NULLABLE', None, (), None),\n",
       " SchemaField('district', 'INTEGER', 'NULLABLE', None, (), None),\n",
       " SchemaField('ward', 'INTEGER', 'NULLABLE', None, (), None),\n",
       " SchemaField('community_area', 'INTEGER', 'NULLABLE', None, (), None),\n",
       " SchemaField('fbi_code', 'STRING', 'NULLABLE', None, (), None),\n",
       " SchemaField('x_coordinate', 'FLOAT', 'NULLABLE', None, (), None),\n",
       " SchemaField('y_coordinate', 'FLOAT', 'NULLABLE', None, (), None),\n",
       " SchemaField('year', 'INTEGER', 'NULLABLE', None, (), None),\n",
       " SchemaField('updated_on', 'TIMESTAMP', 'NULLABLE', None, (), None),\n",
       " SchemaField('latitude', 'FLOAT', 'NULLABLE', None, (), None),\n",
       " SchemaField('longitude', 'FLOAT', 'NULLABLE', None, (), None),\n",
       " SchemaField('location', 'STRING', 'NULLABLE', None, (), None)]"
      ]
     },
     "execution_count": 6,
     "metadata": {},
     "output_type": "execute_result"
    }
   ],
   "source": [
    "# Write the code to figure out the answer\n",
    "\n",
    "# Construct a reference to the \"crime\" table\n",
    "table_ref = dataset_ref.table(\"crime\")\n",
    "\n",
    "# API request - fetch the table\n",
    "table = client.get_table(table_ref)\n",
    "\n",
    "# Print information on all the columns in the \"crime\" table in the \"chicago_crime\" dataset\n",
    "table.schema"
   ]
  },
  {
   "cell_type": "code",
   "execution_count": 7,
   "id": "a1ae6b2f",
   "metadata": {
    "execution": {
     "iopub.execute_input": "2022-11-18T17:32:13.584819Z",
     "iopub.status.busy": "2022-11-18T17:32:13.584475Z",
     "iopub.status.idle": "2022-11-18T17:32:13.592463Z",
     "shell.execute_reply": "2022-11-18T17:32:13.591490Z"
    },
    "papermill": {
     "duration": 0.016485,
     "end_time": "2022-11-18T17:32:13.594236",
     "exception": false,
     "start_time": "2022-11-18T17:32:13.577751",
     "status": "completed"
    },
    "tags": []
   },
   "outputs": [
    {
     "data": {
      "application/javascript": [
       "parent.postMessage({\"jupyterEvent\": \"custom.exercise_interaction\", \"data\": {\"outcomeType\": 1, \"valueTowardsCompletion\": 0.3333333333333333, \"interactionType\": 1, \"questionType\": 1, \"questionId\": \"2_CountTimestampFields\", \"learnToolsVersion\": \"0.3.4\", \"failureMessage\": \"\", \"exceptionClass\": \"\", \"trace\": \"\"}}, \"*\")"
      ],
      "text/plain": [
       "<IPython.core.display.Javascript object>"
      ]
     },
     "metadata": {},
     "output_type": "display_data"
    },
    {
     "data": {
      "text/markdown": [
       "<span style=\"color:#33cc33\">Correct</span>"
      ],
      "text/plain": [
       "Correct"
      ]
     },
     "metadata": {},
     "output_type": "display_data"
    }
   ],
   "source": [
    "num_timestamp_fields = 2 # Put your answer here\n",
    "\n",
    "# Check your answer\n",
    "q_2.check()"
   ]
  },
  {
   "cell_type": "markdown",
   "id": "d82172c0",
   "metadata": {
    "papermill": {
     "duration": 0.005406,
     "end_time": "2022-11-18T17:32:13.605535",
     "exception": false,
     "start_time": "2022-11-18T17:32:13.600129",
     "status": "completed"
    },
    "tags": []
   },
   "source": [
    "For a hint or the solution, uncomment the appropriate line below."
   ]
  },
  {
   "cell_type": "code",
   "execution_count": 8,
   "id": "7c3900e3",
   "metadata": {
    "execution": {
     "iopub.execute_input": "2022-11-18T17:32:13.618627Z",
     "iopub.status.busy": "2022-11-18T17:32:13.618206Z",
     "iopub.status.idle": "2022-11-18T17:32:13.627006Z",
     "shell.execute_reply": "2022-11-18T17:32:13.625557Z"
    },
    "papermill": {
     "duration": 0.017693,
     "end_time": "2022-11-18T17:32:13.628853",
     "exception": false,
     "start_time": "2022-11-18T17:32:13.611160",
     "status": "completed"
    },
    "tags": []
   },
   "outputs": [
    {
     "data": {
      "application/javascript": [
       "parent.postMessage({\"jupyterEvent\": \"custom.exercise_interaction\", \"data\": {\"interactionType\": 3, \"questionType\": 1, \"questionId\": \"2_CountTimestampFields\", \"learnToolsVersion\": \"0.3.4\", \"valueTowardsCompletion\": 0.0, \"failureMessage\": \"\", \"exceptionClass\": \"\", \"trace\": \"\", \"outcomeType\": 4}}, \"*\")"
      ],
      "text/plain": [
       "<IPython.core.display.Javascript object>"
      ]
     },
     "metadata": {},
     "output_type": "display_data"
    },
    {
     "data": {
      "text/markdown": [
       "<span style=\"color:#33cc99\">Solution:</span> \n",
       "```python\n",
       "\n",
       "# Construct a reference to the \"crime\" table\n",
       "table_ref = dataset_ref.table(\"crime\")\n",
       "\n",
       "# API request - fetch the table\n",
       "table = client.get_table(table_ref)\n",
       "\n",
       "# Print information on all the columns in the \"crime\" table in the \"chicago_crime\" dataset\n",
       "print(table.schema)\n",
       "\n",
       "num_timestamp_fields = 2\n",
       "\n",
       "```"
      ],
      "text/plain": [
       "Solution: \n",
       "```python\n",
       "\n",
       "# Construct a reference to the \"crime\" table\n",
       "table_ref = dataset_ref.table(\"crime\")\n",
       "\n",
       "# API request - fetch the table\n",
       "table = client.get_table(table_ref)\n",
       "\n",
       "# Print information on all the columns in the \"crime\" table in the \"chicago_crime\" dataset\n",
       "print(table.schema)\n",
       "\n",
       "num_timestamp_fields = 2\n",
       "\n",
       "```"
      ]
     },
     "metadata": {},
     "output_type": "display_data"
    }
   ],
   "source": [
    "#q_2.hint()\n",
    "q_2.solution()"
   ]
  },
  {
   "cell_type": "markdown",
   "id": "86a02db4",
   "metadata": {
    "papermill": {
     "duration": 0.005751,
     "end_time": "2022-11-18T17:32:13.640617",
     "exception": false,
     "start_time": "2022-11-18T17:32:13.634866",
     "status": "completed"
    },
    "tags": []
   },
   "source": [
    "### 3) Create a crime map\n",
    "\n",
    "If you wanted to create a map with a dot at the location of each crime, what are the names of the two fields you likely need to pull out of the `crime` table to plot the crimes on a map?"
   ]
  },
  {
   "cell_type": "code",
   "execution_count": 9,
   "id": "15e01f33",
   "metadata": {
    "execution": {
     "iopub.execute_input": "2022-11-18T17:32:13.654041Z",
     "iopub.status.busy": "2022-11-18T17:32:13.653682Z",
     "iopub.status.idle": "2022-11-18T17:32:14.160159Z",
     "shell.execute_reply": "2022-11-18T17:32:14.159496Z"
    },
    "papermill": {
     "duration": 0.515538,
     "end_time": "2022-11-18T17:32:14.162000",
     "exception": false,
     "start_time": "2022-11-18T17:32:13.646462",
     "status": "completed"
    },
    "tags": []
   },
   "outputs": [
    {
     "name": "stderr",
     "output_type": "stream",
     "text": [
      "/opt/conda/lib/python3.7/site-packages/ipykernel_launcher.py:4: UserWarning: Cannot use bqstorage_client if max_results is set, reverting to fetching data with the tabledata.list endpoint.\n",
      "  after removing the cwd from sys.path.\n"
     ]
    },
    {
     "data": {
      "text/html": [
       "<div>\n",
       "<style scoped>\n",
       "    .dataframe tbody tr th:only-of-type {\n",
       "        vertical-align: middle;\n",
       "    }\n",
       "\n",
       "    .dataframe tbody tr th {\n",
       "        vertical-align: top;\n",
       "    }\n",
       "\n",
       "    .dataframe thead th {\n",
       "        text-align: right;\n",
       "    }\n",
       "</style>\n",
       "<table border=\"1\" class=\"dataframe\">\n",
       "  <thead>\n",
       "    <tr style=\"text-align: right;\">\n",
       "      <th></th>\n",
       "      <th>unique_key</th>\n",
       "      <th>case_number</th>\n",
       "      <th>date</th>\n",
       "      <th>block</th>\n",
       "      <th>iucr</th>\n",
       "      <th>primary_type</th>\n",
       "      <th>description</th>\n",
       "      <th>location_description</th>\n",
       "      <th>arrest</th>\n",
       "      <th>domestic</th>\n",
       "      <th>...</th>\n",
       "      <th>ward</th>\n",
       "      <th>community_area</th>\n",
       "      <th>fbi_code</th>\n",
       "      <th>x_coordinate</th>\n",
       "      <th>y_coordinate</th>\n",
       "      <th>year</th>\n",
       "      <th>updated_on</th>\n",
       "      <th>latitude</th>\n",
       "      <th>longitude</th>\n",
       "      <th>location</th>\n",
       "    </tr>\n",
       "  </thead>\n",
       "  <tbody>\n",
       "    <tr>\n",
       "      <th>0</th>\n",
       "      <td>1933</td>\n",
       "      <td>HH849690</td>\n",
       "      <td>2002-12-20 06:00:00+00:00</td>\n",
       "      <td>007XX E 104TH ST</td>\n",
       "      <td>0110</td>\n",
       "      <td>HOMICIDE</td>\n",
       "      <td>FIRST DEGREE MURDER</td>\n",
       "      <td>ALLEY</td>\n",
       "      <td>False</td>\n",
       "      <td>False</td>\n",
       "      <td>...</td>\n",
       "      <td>9</td>\n",
       "      <td>50</td>\n",
       "      <td>01A</td>\n",
       "      <td>1182896.0</td>\n",
       "      <td>1836154.0</td>\n",
       "      <td>2002</td>\n",
       "      <td>2022-09-18 04:45:51+00:00</td>\n",
       "      <td>41.705607</td>\n",
       "      <td>-87.605860</td>\n",
       "      <td>(41.705607465, -87.60585975)</td>\n",
       "    </tr>\n",
       "    <tr>\n",
       "      <th>1</th>\n",
       "      <td>22637</td>\n",
       "      <td>HZ361128</td>\n",
       "      <td>2016-07-23 03:37:00+00:00</td>\n",
       "      <td>104XX S WENTWORTH AVE</td>\n",
       "      <td>0110</td>\n",
       "      <td>HOMICIDE</td>\n",
       "      <td>FIRST DEGREE MURDER</td>\n",
       "      <td>STREET</td>\n",
       "      <td>False</td>\n",
       "      <td>False</td>\n",
       "      <td>...</td>\n",
       "      <td>34</td>\n",
       "      <td>49</td>\n",
       "      <td>01A</td>\n",
       "      <td>1176803.0</td>\n",
       "      <td>1835516.0</td>\n",
       "      <td>2016</td>\n",
       "      <td>2022-09-18 04:45:51+00:00</td>\n",
       "      <td>41.703996</td>\n",
       "      <td>-87.628191</td>\n",
       "      <td>(41.703995782, -87.628190772)</td>\n",
       "    </tr>\n",
       "    <tr>\n",
       "      <th>2</th>\n",
       "      <td>3045</td>\n",
       "      <td>HL177967</td>\n",
       "      <td>2005-02-12 08:47:00+00:00</td>\n",
       "      <td>007XX E 103RD ST</td>\n",
       "      <td>0110</td>\n",
       "      <td>HOMICIDE</td>\n",
       "      <td>FIRST DEGREE MURDER</td>\n",
       "      <td>RETAIL STORE</td>\n",
       "      <td>True</td>\n",
       "      <td>False</td>\n",
       "      <td>...</td>\n",
       "      <td>9</td>\n",
       "      <td>50</td>\n",
       "      <td>01A</td>\n",
       "      <td>1182951.0</td>\n",
       "      <td>1836828.0</td>\n",
       "      <td>2005</td>\n",
       "      <td>2022-09-18 04:45:51+00:00</td>\n",
       "      <td>41.707456</td>\n",
       "      <td>-87.605637</td>\n",
       "      <td>(41.707455731, -87.605637491)</td>\n",
       "    </tr>\n",
       "    <tr>\n",
       "      <th>3</th>\n",
       "      <td>26345</td>\n",
       "      <td>JE395709</td>\n",
       "      <td>2021-10-02 06:44:00+00:00</td>\n",
       "      <td>001XX E 107TH ST</td>\n",
       "      <td>0110</td>\n",
       "      <td>HOMICIDE</td>\n",
       "      <td>FIRST DEGREE MURDER</td>\n",
       "      <td>HOUSE</td>\n",
       "      <td>False</td>\n",
       "      <td>False</td>\n",
       "      <td>...</td>\n",
       "      <td>9</td>\n",
       "      <td>49</td>\n",
       "      <td>01A</td>\n",
       "      <td>1178985.0</td>\n",
       "      <td>1834047.0</td>\n",
       "      <td>2021</td>\n",
       "      <td>2022-09-18 04:45:51+00:00</td>\n",
       "      <td>41.699915</td>\n",
       "      <td>-87.620245</td>\n",
       "      <td>(41.699915337, -87.620245268)</td>\n",
       "    </tr>\n",
       "    <tr>\n",
       "      <th>4</th>\n",
       "      <td>26912</td>\n",
       "      <td>JF320446</td>\n",
       "      <td>2022-07-17 07:44:00+00:00</td>\n",
       "      <td>104XX S CORLISS AVE</td>\n",
       "      <td>0110</td>\n",
       "      <td>HOMICIDE</td>\n",
       "      <td>FIRST DEGREE MURDER</td>\n",
       "      <td>STREET</td>\n",
       "      <td>False</td>\n",
       "      <td>False</td>\n",
       "      <td>...</td>\n",
       "      <td>9</td>\n",
       "      <td>50</td>\n",
       "      <td>01A</td>\n",
       "      <td>1183430.0</td>\n",
       "      <td>1835679.0</td>\n",
       "      <td>2022</td>\n",
       "      <td>2022-09-18 04:45:51+00:00</td>\n",
       "      <td>41.704292</td>\n",
       "      <td>-87.603919</td>\n",
       "      <td>(41.704291609, -87.603919042)</td>\n",
       "    </tr>\n",
       "  </tbody>\n",
       "</table>\n",
       "<p>5 rows × 22 columns</p>\n",
       "</div>"
      ],
      "text/plain": [
       "   unique_key case_number                      date                  block  \\\n",
       "0        1933    HH849690 2002-12-20 06:00:00+00:00       007XX E 104TH ST   \n",
       "1       22637    HZ361128 2016-07-23 03:37:00+00:00  104XX S WENTWORTH AVE   \n",
       "2        3045    HL177967 2005-02-12 08:47:00+00:00       007XX E 103RD ST   \n",
       "3       26345    JE395709 2021-10-02 06:44:00+00:00       001XX E 107TH ST   \n",
       "4       26912    JF320446 2022-07-17 07:44:00+00:00    104XX S CORLISS AVE   \n",
       "\n",
       "   iucr primary_type          description location_description  arrest  \\\n",
       "0  0110     HOMICIDE  FIRST DEGREE MURDER                ALLEY   False   \n",
       "1  0110     HOMICIDE  FIRST DEGREE MURDER               STREET   False   \n",
       "2  0110     HOMICIDE  FIRST DEGREE MURDER         RETAIL STORE    True   \n",
       "3  0110     HOMICIDE  FIRST DEGREE MURDER                HOUSE   False   \n",
       "4  0110     HOMICIDE  FIRST DEGREE MURDER               STREET   False   \n",
       "\n",
       "   domestic  ...  ward  community_area  fbi_code  x_coordinate y_coordinate  \\\n",
       "0     False  ...     9              50       01A     1182896.0    1836154.0   \n",
       "1     False  ...    34              49       01A     1176803.0    1835516.0   \n",
       "2     False  ...     9              50       01A     1182951.0    1836828.0   \n",
       "3     False  ...     9              49       01A     1178985.0    1834047.0   \n",
       "4     False  ...     9              50       01A     1183430.0    1835679.0   \n",
       "\n",
       "   year                updated_on   latitude  longitude  \\\n",
       "0  2002 2022-09-18 04:45:51+00:00  41.705607 -87.605860   \n",
       "1  2016 2022-09-18 04:45:51+00:00  41.703996 -87.628191   \n",
       "2  2005 2022-09-18 04:45:51+00:00  41.707456 -87.605637   \n",
       "3  2021 2022-09-18 04:45:51+00:00  41.699915 -87.620245   \n",
       "4  2022 2022-09-18 04:45:51+00:00  41.704292 -87.603919   \n",
       "\n",
       "                        location  \n",
       "0   (41.705607465, -87.60585975)  \n",
       "1  (41.703995782, -87.628190772)  \n",
       "2  (41.707455731, -87.605637491)  \n",
       "3  (41.699915337, -87.620245268)  \n",
       "4  (41.704291609, -87.603919042)  \n",
       "\n",
       "[5 rows x 22 columns]"
      ]
     },
     "execution_count": 9,
     "metadata": {},
     "output_type": "execute_result"
    }
   ],
   "source": [
    "# Write the code here to explore the data so you can find the answer\n",
    "\n",
    "# Preview first 5 lines of the table\n",
    "client.list_rows(table, max_results=5).to_dataframe()"
   ]
  },
  {
   "cell_type": "code",
   "execution_count": 10,
   "id": "d6cd745c",
   "metadata": {
    "execution": {
     "iopub.execute_input": "2022-11-18T17:32:14.177171Z",
     "iopub.status.busy": "2022-11-18T17:32:14.176043Z",
     "iopub.status.idle": "2022-11-18T17:32:14.185129Z",
     "shell.execute_reply": "2022-11-18T17:32:14.183816Z"
    },
    "papermill": {
     "duration": 0.019,
     "end_time": "2022-11-18T17:32:14.187562",
     "exception": false,
     "start_time": "2022-11-18T17:32:14.168562",
     "status": "completed"
    },
    "tags": []
   },
   "outputs": [
    {
     "data": {
      "application/javascript": [
       "parent.postMessage({\"jupyterEvent\": \"custom.exercise_interaction\", \"data\": {\"outcomeType\": 1, \"valueTowardsCompletion\": 0.3333333333333333, \"interactionType\": 1, \"questionType\": 2, \"questionId\": \"3_IdentifyFieldsForPlotting\", \"learnToolsVersion\": \"0.3.4\", \"failureMessage\": \"\", \"exceptionClass\": \"\", \"trace\": \"\"}}, \"*\")"
      ],
      "text/plain": [
       "<IPython.core.display.Javascript object>"
      ]
     },
     "metadata": {},
     "output_type": "display_data"
    },
    {
     "data": {
      "text/markdown": [
       "<span style=\"color:#33cc33\">Correct</span>"
      ],
      "text/plain": [
       "Correct"
      ]
     },
     "metadata": {},
     "output_type": "display_data"
    }
   ],
   "source": [
    "fields_for_plotting = [\"latitude\", \"longitude\"] # Put your answers here\n",
    "\n",
    "# Check your answer\n",
    "q_3.check()"
   ]
  },
  {
   "cell_type": "markdown",
   "id": "19589ad0",
   "metadata": {
    "papermill": {
     "duration": 0.006328,
     "end_time": "2022-11-18T17:32:14.200907",
     "exception": false,
     "start_time": "2022-11-18T17:32:14.194579",
     "status": "completed"
    },
    "tags": []
   },
   "source": [
    "For a hint or the solution, uncomment the appropriate line below."
   ]
  },
  {
   "cell_type": "code",
   "execution_count": 11,
   "id": "d736d6b4",
   "metadata": {
    "execution": {
     "iopub.execute_input": "2022-11-18T17:32:14.215673Z",
     "iopub.status.busy": "2022-11-18T17:32:14.215268Z",
     "iopub.status.idle": "2022-11-18T17:32:14.219779Z",
     "shell.execute_reply": "2022-11-18T17:32:14.218770Z"
    },
    "papermill": {
     "duration": 0.014351,
     "end_time": "2022-11-18T17:32:14.221990",
     "exception": false,
     "start_time": "2022-11-18T17:32:14.207639",
     "status": "completed"
    },
    "tags": []
   },
   "outputs": [],
   "source": [
    "#q_3.hint()\n",
    "#q_3.solution()"
   ]
  },
  {
   "cell_type": "markdown",
   "id": "22121ac8",
   "metadata": {
    "papermill": {
     "duration": 0.006075,
     "end_time": "2022-11-18T17:32:14.234884",
     "exception": false,
     "start_time": "2022-11-18T17:32:14.228809",
     "status": "completed"
    },
    "tags": []
   },
   "source": [
    "Thinking about the question above, there are a few columns that appear to have geographic data. Look at a few values (with the `list_rows()` command) to see if you can determine their relationship.  Two columns will still be hard to interpret. But it should be obvious how the `location` column relates to `latitude` and `longitude`."
   ]
  },
  {
   "cell_type": "code",
   "execution_count": 12,
   "id": "0024e0c2",
   "metadata": {
    "execution": {
     "iopub.execute_input": "2022-11-18T17:32:14.249418Z",
     "iopub.status.busy": "2022-11-18T17:32:14.248757Z",
     "iopub.status.idle": "2022-11-18T17:32:14.252843Z",
     "shell.execute_reply": "2022-11-18T17:32:14.251823Z"
    },
    "papermill": {
     "duration": 0.013606,
     "end_time": "2022-11-18T17:32:14.254851",
     "exception": false,
     "start_time": "2022-11-18T17:32:14.241245",
     "status": "completed"
    },
    "tags": []
   },
   "outputs": [],
   "source": [
    "# Scratch space for your code"
   ]
  },
  {
   "cell_type": "markdown",
   "id": "af52d898",
   "metadata": {
    "papermill": {
     "duration": 0.00635,
     "end_time": "2022-11-18T17:32:14.268514",
     "exception": false,
     "start_time": "2022-11-18T17:32:14.262164",
     "status": "completed"
    },
    "tags": []
   },
   "source": [
    "# Keep going\n",
    "\n",
    "You've looked at the schema, but you haven't yet done anything exciting with the data itself. Things get more interesting when you get to the data, so keep going to **[write your first SQL query](https://www.kaggle.com/dansbecker/select-from-where).**"
   ]
  },
  {
   "cell_type": "markdown",
   "id": "fdcc919c",
   "metadata": {
    "papermill": {
     "duration": 0.006185,
     "end_time": "2022-11-18T17:32:14.281331",
     "exception": false,
     "start_time": "2022-11-18T17:32:14.275146",
     "status": "completed"
    },
    "tags": []
   },
   "source": [
    "---\n",
    "\n",
    "\n",
    "\n",
    "\n",
    "*Have questions or comments? Visit the [course discussion forum](https://www.kaggle.com/learn/intro-to-sql/discussion) to chat with other learners.*"
   ]
  }
 ],
 "metadata": {
  "kernelspec": {
   "display_name": "Python 3",
   "language": "python",
   "name": "python3"
  },
  "language_info": {
   "codemirror_mode": {
    "name": "ipython",
    "version": 3
   },
   "file_extension": ".py",
   "mimetype": "text/x-python",
   "name": "python",
   "nbconvert_exporter": "python",
   "pygments_lexer": "ipython3",
   "version": "3.7.12"
  },
  "papermill": {
   "default_parameters": {},
   "duration": 12.457886,
   "end_time": "2022-11-18T17:32:14.907708",
   "environment_variables": {},
   "exception": null,
   "input_path": "__notebook__.ipynb",
   "output_path": "__notebook__.ipynb",
   "parameters": {},
   "start_time": "2022-11-18T17:32:02.449822",
   "version": "2.3.4"
  }
 },
 "nbformat": 4,
 "nbformat_minor": 5
}
